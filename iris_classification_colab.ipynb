{
 "cells": [
  {
   "cell_type": "code",
   "execution_count": null,
   "id": "2ed6ad19",
   "metadata": {},
   "outputs": [],
   "source": [
    "!pip install seaborn joblib"
   ]
  },
  {
   "cell_type": "code",
   "execution_count": null,
   "id": "088ada56",
   "metadata": {},
   "outputs": [],
   "source": [
    "# iris_classification.py"
   ]
  },
  {
   "cell_type": "code",
   "execution_count": null,
   "id": "0327a4e0",
   "metadata": {},
   "outputs": [],
   "source": [
    "# Step 1: Import Libraries\n",
    "\n",
    "import pandas as pd\n",
    "from sklearn.datasets import load_iris\n",
    "import seaborn as sns\n",
    "import matplotlib.pyplot as plt\n",
    "from sklearn.model_selection import train_test_split\n",
    "from sklearn.linear_model import LogisticRegression\n",
    "from sklearn.metrics import accuracy_score, classification_report\n",
    "import joblib"
   ]
  },
  {
   "cell_type": "code",
   "execution_count": null,
   "id": "24cf80e0",
   "metadata": {},
   "outputs": [],
   "source": [
    "# Step 2: Load Dataset\n",
    "iris = load_iris()\n",
    "df = pd.DataFrame(data=iris.data, columns=iris.feature_names)\n",
    "df['target'] = iris.target\n",
    "df['species'] = pd.Categorical.from_codes(iris.target, iris.target_names)"
   ]
  },
  {
   "cell_type": "code",
   "execution_count": null,
   "id": "1ba578ba",
   "metadata": {},
   "outputs": [],
   "source": [
    "# Step 3: Explore Data\n",
    "print(\"\\n=== First 5 Rows of Data ===\")\n",
    "print(df.head())\n",
    "\n",
    "print(\"\\n=== Dataset Information ===\")\n",
    "print(df.info())\n",
    "\n",
    "print(\"\\n=== Class Distribution ===\")\n",
    "print(df['species'].value_counts())"
   ]
  },
  {
   "cell_type": "code",
   "execution_count": null,
   "id": "ded33d30",
   "metadata": {},
   "outputs": [],
   "source": [
    "# Step 4: Visualize Data\n",
    "plt.figure(figsize=(10, 6))\n",
    "sns.pairplot(df, hue='species', palette='Dark2')\n",
    "plt.suptitle('Iris Species Feature Relationships', y=1.02)\n",
    "plt.savefig('iris_pairplot.png')  # Saves visualization to file\n",
    "plt.show()"
   ]
  },
  {
   "cell_type": "code",
   "execution_count": null,
   "id": "307d9263",
   "metadata": {},
   "outputs": [],
   "source": [
    "# Step 5: Prepare Data for Training\n",
    "X = df[['sepal length (cm)', 'sepal width (cm)', \n",
    "        'petal length (cm)', 'petal width (cm)']]\n",
    "y = df['target']\n",
    "\n",
    "X_train, X_test, y_train, y_test = train_test_split(\n",
    "    X, y, \n",
    "    test_size=0.2, \n",
    "    random_state=42, \n",
    "    stratify=y\n",
    ")"
   ]
  },
  {
   "cell_type": "code",
   "execution_count": null,
   "id": "cf5ec80f",
   "metadata": {},
   "outputs": [],
   "source": [
    "# Step 6: Train Model\n",
    "model = LogisticRegression(max_iter=200)\n",
    "model.fit(X_train, y_train)"
   ]
  },
  {
   "cell_type": "code",
   "execution_count": null,
   "id": "e94bffe5",
   "metadata": {},
   "outputs": [],
   "source": [
    "# Step 7: Evaluate Model\n",
    "y_pred = model.predict(X_test)\n",
    "\n",
    "print(\"\\n=== Model Evaluation ===\")\n",
    "print(f\"Accuracy: {accuracy_score(y_test, y_pred):.2f}\")\n",
    "print(\"\\nClassification Report:\")\n",
    "print(classification_report(y_test, y_pred))"
   ]
  },
  {
   "cell_type": "code",
   "execution_count": null,
   "id": "30dd7433",
   "metadata": {},
   "outputs": [],
   "source": [
    "# Step 8: Save Model\n",
    "joblib.dump(model, 'iris_classifier.joblib')\n",
    "print(\"\\nModel saved as 'iris_classifier.joblib'\")"
   ]
  }
 ],
 "metadata": {},
 "nbformat": 4,
 "nbformat_minor": 5
}
